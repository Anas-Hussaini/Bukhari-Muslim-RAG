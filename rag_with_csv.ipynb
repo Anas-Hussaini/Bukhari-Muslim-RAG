{
 "cells": [
  {
   "cell_type": "code",
   "execution_count": 1,
   "metadata": {},
   "outputs": [],
   "source": [
    "import os\n",
    "from dotenv import load_dotenv\n",
    "load_dotenv()\n",
    "\n",
    "os.environ[\"LANGCHAIN_API_KEY\"] = os.getenv(\"LANGCHAIN_API_KEY\")\n"
   ]
  },
  {
   "cell_type": "code",
   "execution_count": 11,
   "metadata": {},
   "outputs": [
    {
     "name": "stdout",
     "output_type": "stream",
     "text": [
      "   id  hadith_id           source  chapter_no hadith_no  \\\n",
      "0   0          1   Sahih Bukhari            1        1    \n",
      "1   1          2   Sahih Bukhari            1        2    \n",
      "2   2          3   Sahih Bukhari            1        3    \n",
      "3   3          4   Sahih Bukhari            1        4    \n",
      "4   4          5   Sahih Bukhari            1        5    \n",
      "\n",
      "                       chapter                             chain_indx  \\\n",
      "0  Revelation - كتاب بدء الوحى   30418, 20005, 11062, 11213, 11042, 3   \n",
      "1  Revelation - كتاب بدء الوحى         30355, 20001, 11065, 10511, 53   \n",
      "2  Revelation - كتاب بدء الوحى  30399, 20023, 11207, 11013, 10511, 53   \n",
      "3  Revelation - كتاب بدء الوحى                       11013, 10567, 34   \n",
      "4  Revelation - كتاب بدء الوحى         20040, 20469, 11399, 11050, 17   \n",
      "\n",
      "                                             text_ar  \\\n",
      "0  حدثنا الحميدي عبد الله بن الزبير، قال حدثنا سف...   \n",
      "1  حدثنا عبد الله بن يوسف، قال أخبرنا مالك، عن هش...   \n",
      "2  حدثنا يحيى بن بكير، قال حدثنا الليث، عن عقيل، ...   \n",
      "3  قال ابن شهاب وأخبرني أبو سلمة بن عبد الرحمن، أ...   \n",
      "4  حدثنا موسى بن إسماعيل، قال حدثنا أبو عوانة، قا...   \n",
      "\n",
      "                                             text_en  \n",
      "0        Narrated 'Umar bin Al-Khattab:          ...  \n",
      "1        Narrated 'Aisha:                        ...  \n",
      "2   Narrated 'Aisha:                       (the m...  \n",
      "3   Narrated Jabir bin 'Abdullah Al-Ansari while ...  \n",
      "4        Narrated Said bin Jubair:               ...  \n"
     ]
    }
   ],
   "source": [
    "import pandas as pd\n",
    "\n",
    "# Load the CSV file into a Pandas DataFrame\n",
    "df = pd.read_csv('all_hadiths_clean.csv')\n",
    "\n",
    "# Preview the data\n",
    "print(df.head())\n"
   ]
  },
  {
   "cell_type": "code",
   "execution_count": 12,
   "metadata": {},
   "outputs": [
    {
     "data": {
      "text/plain": [
       "Index(['id', 'hadith_id', 'source', 'chapter_no', 'hadith_no', 'chapter',\n",
       "       'chain_indx', 'text_ar', 'text_en'],\n",
       "      dtype='object')"
      ]
     },
     "execution_count": 12,
     "metadata": {},
     "output_type": "execute_result"
    }
   ],
   "source": [
    "df.columns"
   ]
  },
  {
   "cell_type": "code",
   "execution_count": 13,
   "metadata": {},
   "outputs": [
    {
     "name": "stdout",
     "output_type": "stream",
     "text": [
      "<bound method NDFrame.head of        hadith_id             source  chapter_no hadith_no  \\\n",
      "0              1     Sahih Bukhari            1        1    \n",
      "1              2     Sahih Bukhari            1        2    \n",
      "2              3     Sahih Bukhari            1        3    \n",
      "3              4     Sahih Bukhari            1        4    \n",
      "4              5     Sahih Bukhari            1        5    \n",
      "...          ...                ...         ...       ...   \n",
      "34436      54223   Sunan Ibn Majah           36     4234    \n",
      "34437      54224   Sunan Ibn Majah           36     4235    \n",
      "34438      54225   Sunan Ibn Majah           36     4236    \n",
      "34439      54226   Sunan Ibn Majah           36     4237    \n",
      "34440      54227   Sunan Ibn Majah           36     4238    \n",
      "\n",
      "                                                 text_en  \n",
      "0            Narrated 'Umar bin Al-Khattab:          ...  \n",
      "1            Narrated 'Aisha:                        ...  \n",
      "2       Narrated 'Aisha:                       (the m...  \n",
      "3       Narrated Jabir bin 'Abdullah Al-Ansari while ...  \n",
      "4            Narrated Said bin Jubair:               ...  \n",
      "...                                                  ...  \n",
      "34436   It was narrated from ‘Awf bin Malik Al-Ashja’...  \n",
      "34437   It was narrated from Abu Hurairah conveying i...  \n",
      "34438   It was narrated from Abu Hurairah that the Me...  \n",
      "34439   It was narrated that ‘Amr bin Taghlib said:  ...  \n",
      "34440   It was narrated from Abu Sa’eed Al-Khudri tha...  \n",
      "\n",
      "[34441 rows x 5 columns]>\n"
     ]
    }
   ],
   "source": [
    "df = df.drop(columns=['id', 'chain_indx', 'chapter', 'text_ar'])\n",
    "\n",
    "print(df.head)"
   ]
  },
  {
   "cell_type": "code",
   "execution_count": 14,
   "metadata": {},
   "outputs": [
    {
     "data": {
      "text/plain": [
       "Index(['hadith_id', 'source', 'chapter_no', 'hadith_no', 'text_en'], dtype='object')"
      ]
     },
     "execution_count": 14,
     "metadata": {},
     "output_type": "execute_result"
    }
   ],
   "source": [
    "df.columns"
   ]
  },
  {
   "cell_type": "code",
   "execution_count": null,
   "metadata": {},
   "outputs": [],
   "source": []
  }
 ],
 "metadata": {
  "kernelspec": {
   "display_name": "myenv",
   "language": "python",
   "name": "python3"
  },
  "language_info": {
   "codemirror_mode": {
    "name": "ipython",
    "version": 3
   },
   "file_extension": ".py",
   "mimetype": "text/x-python",
   "name": "python",
   "nbconvert_exporter": "python",
   "pygments_lexer": "ipython3",
   "version": "3.11.7"
  }
 },
 "nbformat": 4,
 "nbformat_minor": 2
}
