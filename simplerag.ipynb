{
 "cells": [
  {
   "cell_type": "code",
   "execution_count": 1,
   "metadata": {},
   "outputs": [
    {
     "data": {
      "text/plain": [
       "[Document(page_content=\"Book 005, Number 2265: Hamza b. 'Abdullah b. Umar heard his father cay that the Messenger of Allah (may peace be upon him) had said: The person would continue begging from people till he would come on the Day of Resurrection and there would be no flesh on his face. Book 005, Number 2266: Abu Huraira reported Allah's Messenger (may peace be upon him) as saying: He who begs the riches of others to increase his own is asking only for live coals, so let him ask a little or much. Book 005, Number 2267: Abu Huraira is reported to have heard the Messenger of Allah (may peace be upon him) as saying: It is letter for one among you to bring a load of firewood on his back and give charity out of it (and satisfy his own need) and be independent of people, than that he should beg from people, whether they give him anything or refuse him. Verily the upper hand is better than the lower hand, and begin (charity) with your dependants. Book 005, Number 2268: Qais b. Abu Hizam reported: We came to Abu Huraira and he told Allah's Messenger (may peace be upon him) having said this: By Allah, (it is better) that one among you should go and bring a load of firewood on his back and he should sell it, and the rest of the hadith was narrated (like the previous one). Book 005, Number 2269: Abu Huraira reported Allah's Messenger (may peace be upon him) as saying: It is better for any one of you to tie a bundle of firewood and carry it on his back and sell it than to beg a person, he may give or may refuse. Book 005, Number 2270: Malik al-Ashja'i reported: We, nine, eight or seven men, were in the company of the Messenger of Allah (may peace be upon him) and he said: Why don't you pledge allegiance to the Messenger of Allah? -while we had recently pledged allegiance. So we said: Messenger of Allah, we have already pledged allegiance to you. He again said: Why don't you pledge allegiance to the Messenger of Allah? And we said: Messenger of Allah, we have already pledged allegiance to you. He again said: Why don't you pledge allegiance to the Messenger of Allah? We stretched our hands and said: Messenger of Allah. we have already pledged allegiance to you. Now tell (on what things) should we pledge a\", metadata={'source': 'text.txt'})]"
      ]
     },
     "execution_count": 1,
     "metadata": {},
     "output_type": "execute_result"
    }
   ],
   "source": [
    "## Data Ingestion\n",
    "from langchain_community.document_loaders import TextLoader\n",
    "loader=TextLoader(\"text.txt\")\n",
    "text_documents=loader.load()\n",
    "text_documents"
   ]
  },
  {
   "cell_type": "code",
   "execution_count": 2,
   "metadata": {},
   "outputs": [],
   "source": [
    "import os\n",
    "from dotenv import load_dotenv\n",
    "load_dotenv()\n",
    "\n",
    "os.environ[\"LANGCHAIN_API_KEY\"] = os.getenv(\"LANGCHAIN_API_KEY\")\n"
   ]
  },
  {
   "cell_type": "code",
   "execution_count": 3,
   "metadata": {},
   "outputs": [
    {
     "data": {
      "text/plain": [
       "[Document(page_content=\"SSAHIHAHIH M M USLIMUSLIM\\nTranslator: Abd-al-Hamid Siddiqui\\nAbout the author:\\nImam Muslim (Muslim ibn al-Hajjaj) was born in 202 AH in Naysabur (817/818CE) and died in 261AH  \\n(874/875CE)also in Naysabur. He traveled widely to gather his collection of ahadith (plural of hadith), in -\\ncluding to Iraq, Saudi Arabia, Syria and Egypt. Out of 300,000 hadith which he evaluated, approximately  \\n4,000 were extracted for inclusion into his collection based on stringent acceptance criteria. Each report in  \\nhis collection was checked and the veracity of the chain of reporters was painstakingly established. Sunni  \\nMuslims consider it the second most authentic hadith collection, after Sahih Bukhari. However, it is im -\\nportant to realize that Imam Muslim never claimed to collect all authentic traditions as his goal was to col -\\nlect only traditions that all Muslims should agree on about accuracy.\\nDocument Information:\\n1st edition\\nEdited by: Mika'il al-Almany\\nCreated: 2009-10-02 17:41:54\\nLast modified: 2009-11-05 22:38:59\\nVersion: 0911052238593859 -30\\n\", metadata={'source': 'en_sahih_muslim.pdf', 'page': 0}),\n",
       " Document(page_content=\"SAHIH MUSLIM\\nContent\\nBook 1: The Book of Faith (Kitab Al-Iman) .............................................................................................. 58\\nChapter 1: ..................................................................................................................................................... 59\\nChapter 2: What is iman and what are its Characteristics ....................................................... 60\\nChapter 3: On prayer (salat) which is one  of the pillars of islam ......................................... 62\\nChapter 4: Pertaining to faith in Allah .............................................................................................. 63\\nChapter 5: Concerning iman by which a person would enter heaven ................................64\\nChapter 6: Concerning the Saying of the Apostle: Islam is founded on five (funda -\\nments) ............................................................................................................................................................ 65\\nChapter 7: Relating to the Command for belief in Allah and his prophet and the laws  \\nof Islam and Invitung (people to) Them .......................................................................................... 66\\nChapter 8: Calling people to testifications and the canons of Islam ..................................... 68\\nChapter 9: Command for fighting against the people so long as thy do not profess that  \\nwhat ist no god but Allah and Muhammad is his messenger .................................................. 69\\nChapter 10: He who accepts Islam at the death-bed, before the actual agony of death,  \\nis a muslim. It is forbidden to supplicate blessings for the polytheists. He who dies as a  \\npolytheist is one among the denizens of hell and no means would be effective enough  \\nto get him out of that ................................................................................................................................ 71\\nChapter 11: He who meets his lord with implicit faith would enter heaven and fire  \\nwould be forbidden harm him ............................................................................................................. 72\\nChapter 12: He relished the flavor of iman who was pleased with Allah as his lord ...77\\nChapter 13: Concerning the branches of iman ............................................................................. 78\\nChapter 14: Concerning the comprehensive attributes of Islam ........................................... 79\\nChapter 15: Concerning the Eminence of Islam and of the affair which are excellent 79\\nChapter 16: Concering the attributes by which one gets the relish of iman .....................80\\nChapter 17: It is obligatory to to love the prophet more tan the members of one's hou -\\nsehold: One's child, father or even the whole of humanity ....................................................... 81\\nChapter 18: Concerning the fact that it is one of the characteristics of iman that one  \\nshould like the same thing for one's brother-in-Islam as one likes for one's self ............81\\nChapter 19: Concerning the prohibition to harm neighbour .................................................. 82\\nChapter 20: Concerning exhortation to  accord honour and respect to the neighbour  \\nand to the guest and obligation to observe silence expect in goodness, and all these  \\nqualities come within the orbit of iman ............................................................................................ 82\\nChapter 21: Concerning the facts that interdiction against abominable is a part of  \\nfaith, that faith increases and diminihes; Enjoining that which is good and forbidding  \\n2 / 1800\", metadata={'source': 'en_sahih_muslim.pdf', 'page': 1}),\n",
       " Document(page_content='SAHIH MUSLIM\\nthat which is abominable are obligatory (acts) ............................................................................ 83\\nChapter 22: Precedence of the believers over  one another and the superiority of the  \\npeople of yemen in this respect ........................................................................................................... 84\\nChapter 23: Concerning the fact that no one will enter paradise expect believers, that  \\nlove for believers is (a characteristic feature of) faith and giving currency to (the prac -\\ntise of paying salutation by saying) As-Salamu\\'Aleikum (peace be upon you) is the  \\nmeans to achieve it (faith) ..................................................................................................................... 86\\nChapter 24: Din is sincerity and good-will ..................................................................................... 87\\nChapter 25: Concerning diminution of belief due to sins and its separation from the  \\nsinner: Negation of the excellence of iman at the time of committing sin ........................88\\nChapter 26: Concerning the peculiarities of a hypocrite ......................................................... 89\\nChapter 27: The condition of the faith of one who calls his brother muslim an unbelie -\\nver ................................................................................................................................................................... 90\\nChapter 28: The condition of the faith of one who knowingly denies his true parentage  \\n........................................................................................................................................................................... 90\\nChapter 29: Abusing a muslim is an outrage and fighting against him is unbelief ......91\\nChapter 30: Don\\'t become unbelievers after me by striking the necks of one another \\n........................................................................................................................................................................... 92\\nChapter 31: The use of the word \"unbelief\" in case of slandering (anyone) or one\\'s li -\\nneage, and lamentation .......................................................................................................................... 92\\nChapter 32: Calling the fugitive slave as infidel .......................................................................... 93\\nChapter 33: The unbelief of one who said: we got rainfall by the movement (of the  \\nstars) ............................................................................................................................................................... 93\\nChapter 34: The love of ansar (helpers) and \\'Ali (may Allah be pleased with all of  \\nthem) is (an ingredient) of iman and (one of) its signs, and hatred against them is a  \\nsign of dissemblance ................................................................................................................................ 94\\nChapter 35: Diminution of iman by failing in submission and the use of the word  \\n\"kufr\" for things besides unbelief of allah, for example ungratefulness and ingratitude \\n........................................................................................................................................................................... 95\\nChapter 36: Application of the word \"kufr\" to one who neglects prayer ...........................96\\nChapter 37: Belief in allah is the best of deeds ............................................................................. 97\\nChapter 38: Polytheism is the most shameful of sins and the mentioning of the gravest  \\nsin next to it ................................................................................................................................................. 98\\nChapter 39: Major sins and the gravest among these ................................................................ 99\\nChapter 40: Forbiddance of pride ................................................................................................... 100\\nChapter 41: He who dies associating none with Allah would enter paradise and he  \\n3 / 1800', metadata={'source': 'en_sahih_muslim.pdf', 'page': 2}),\n",
       " Document(page_content='SAHIH MUSLIM\\nwho dies as a polytheist would enter the fire of hell ............................................................... 101\\nChapter 42: Prohibition of the killing of an infidel after he says: \"There is no god but  \\nAllah\" ........................................................................................................................................................... 102\\nChapter 43: The utterance of the apostle (may peace be upon him): He who takes, up  \\narms against us is not of us (i.e. he ceases to re a muslim) .................................................... 104\\nChapter 44: The utterance of the apostle (peace be upon him): He who acted disho -\\nnestly towards us is not of us (i.e. he is not to be counted amongst muslims) ..............105\\nChapter 45: Beating of the cheeks, tearing of the front opening of the shirt, and calling  \\nthe calls of the jahiliya (ignorance) are forbidden ................................................................... 105\\nChapter 46: Serious prohibition of tale-carrying ..................................................................... 106\\nChapter 47: Serious prohibition of letting down the lower garment, of laying obligati -\\non, of selling goods by false oaths, and description of those three- (persons) with  \\nwhom Allah would not speak on the day of resurrection, nor would he see towards  \\nthem nor would absolve them, and for them is a painful chastisement ..........................107\\nChapter 48: Suicide is the gravest sin ............................................................................................ 109\\nChapter 49: Strict forbiddance of acting dishonestly in respect of the spoils or booty.  \\nThe believers alone would enter paradise .................................................................................... 111\\nChapter 50: Argument in favour of the fact that he who kills himself does not become  \\nunbeliever ................................................................................................................................................. 112\\nChapter 51: Concerning the wind which would blow near the day of resurrection and  \\nwould cause to die anyone having ankthing like faith in his heart ..................................113\\nChapter 52: Exhortation to be prompt in doing good deeds before the appearance of  \\nturbulance ................................................................................................................................................. 113\\nChapter 53: Pertaining to the fear of a believer lest his deeds should be lost ...............113\\nChapter 54: Would (people) be held responsible for the deeds committed during the  \\nstate of ignorance? ................................................................................................................................. 114\\nChapter 55: Islam effaces all the previous misdeeds and so do migration and pilgrima -\\nge ................................................................................................................................................................... 115\\nChapter 56: Pertaining to the virtuous act of a man before embracing islam ..............116\\nChapter 57: The veracity of faith and its sincerity ................................................................... 117\\nChapter 58: Concerning the words of Allah whether you manifest whatever is in your  \\nmind or hide it ......................................................................................................................................... 117\\nChapter 59: Allah disregards the premonition or the evil promptings of the heart so  \\nlong as they do not take a firm root ................................................................................................ 119\\nChapter 60: Whenever a person intends to do a good deed, it is recorded but whenever  \\nhe intends to commit evil, it is not written .................................................................................. 119\\n4 / 1800', metadata={'source': 'en_sahih_muslim.pdf', 'page': 3}),\n",
       " Document(page_content='SAHIH MUSLIM\\nChapter 61: Pertaining to eviil suggestion or prompting in faith and what should be  \\nsaid when it occurs to the mind of a man .................................................................................... 121\\nChapter 62: Warning for one appropriating the right of a muslim by taking a false  \\noath: The fire (of hell) is his chastisement .................................................................................... 123\\nChapter 63: Concerning the fact that violable is the blood of one who makes an att -\\nempt to take possession of the property of another without any legitimate right. If such  \\nman is killed his abode is fire and he who dies in protecting his property is a martyr \\n........................................................................................................................................................................ 125\\nChapter 64: The ruler who, is unjust to his subjects deserves punishment of fire ......126\\nChapter 65: Removal of trustworthiness and faith from some hearts and appearance of  \\ndiscord therein ........................................................................................................................................ 127\\nChapter 66: Islam was initiated as something strange, and it would revert to its (old  \\nposition) of being strange, and it would concentrate between the two mosques ........129\\nChapter 67: The effacing of faith in the later age ..................................................................... 129\\nChapter 68: Permissibility of concealing the faith of one who fears ................................130\\nChapter 69: To habituate the heart with faith which due to its weakness, is scared and  \\nthe forbiddance to call positively one a believer without a definite proof .....................130\\nChapter 70: The heart is more satisfied on seeing evidence ................................................. 131\\nChapter 71: The necessity of affirming the prophethood of our apostle Muhammad  \\n(may peace be upon him) who is the apostle sent to the whole of humanity, and the  \\nabrogation of other religions with his religion .......................................................................... 132\\nChapter 72: The descent of jesus son of mary, and he will judge according to the shari -\\niah of our apostle, muhammad (may peace be upon him) ................................................... 133\\nChapter 73: Description of the period in which iman would not be acceptable to Allah \\n........................................................................................................................................................................ 134\\nChapter 74: The beginning of revelation to the messenger of Allah (may peace be upon  \\nhim) ............................................................................................................................................................. 136\\nChapter 75: Night journey of the messenger of Allah (may peace be upon him) to hea -\\nven, and the prayer made obligatory ............................................................................................. 138\\nChapter 76: Pertaining to jesus son of Mary and Al-masih al-dajjal ...............................145\\nChapter 77: Concerning Sidrat-ul-muntaha (remotest lote-tree) .....................................147\\nChapter 78: The meaning of the words of allah: \"He saw him in another descent\" (al-\\nqur\\'an, liii. 13). Did the apostle (may peace be upon him) see his lord on the night of  \\nhis journey (to heaven)? ...................................................................................................................... 148\\nChapter 79: Pertaining to his (prophet\\'s) words: He is a light; how could i see him?  \\nAnd his words: I saw the light ........................................................................................................... 149\\n5 / 1800', metadata={'source': 'en_sahih_muslim.pdf', 'page': 4})]"
      ]
     },
     "execution_count": 3,
     "metadata": {},
     "output_type": "execute_result"
    }
   ],
   "source": [
    "##Pdf reader\n",
    "from langchain_community.document_loaders import PyPDFLoader\n",
    "loader=PyPDFLoader('en_sahih_muslim.pdf')\n",
    "docs=loader.load()\n",
    "docs[:5]"
   ]
  },
  {
   "cell_type": "code",
   "execution_count": 4,
   "metadata": {},
   "outputs": [
    {
     "data": {
      "text/plain": [
       "[Document(page_content=\"SSAHIHAHIH M M USLIMUSLIM\\nTranslator: Abd-al-Hamid Siddiqui\\nAbout the author:\\nImam Muslim (Muslim ibn al-Hajjaj) was born in 202 AH in Naysabur (817/818CE) and died in 261AH  \\n(874/875CE)also in Naysabur. He traveled widely to gather his collection of ahadith (plural of hadith), in -\\ncluding to Iraq, Saudi Arabia, Syria and Egypt. Out of 300,000 hadith which he evaluated, approximately  \\n4,000 were extracted for inclusion into his collection based on stringent acceptance criteria. Each report in  \\nhis collection was checked and the veracity of the chain of reporters was painstakingly established. Sunni  \\nMuslims consider it the second most authentic hadith collection, after Sahih Bukhari. However, it is im -\\nportant to realize that Imam Muslim never claimed to collect all authentic traditions as his goal was to col -\\nlect only traditions that all Muslims should agree on about accuracy.\\nDocument Information:\\n1st edition\\nEdited by: Mika'il al-Almany\\nCreated: 2009-10-02 17:41:54\\nLast modified: 2009-11-05 22:38:59\\nVersion: 0911052238593859 -30\", metadata={'source': 'en_sahih_muslim.pdf', 'page': 0}),\n",
       " Document(page_content='SAHIH MUSLIM\\nContent\\nBook 1: The Book of Faith (Kitab Al-Iman) .............................................................................................. 58\\nChapter 1: ..................................................................................................................................................... 59\\nChapter 2: What is iman and what are its Characteristics ....................................................... 60\\nChapter 3: On prayer (salat) which is one  of the pillars of islam ......................................... 62\\nChapter 4: Pertaining to faith in Allah .............................................................................................. 63\\nChapter 5: Concerning iman by which a person would enter heaven ................................64\\nChapter 6: Concerning the Saying of the Apostle: Islam is founded on five (funda -\\nments) ............................................................................................................................................................ 65\\nChapter 7: Relating to the Command for belief in Allah and his prophet and the laws  \\nof Islam and Invitung (people to) Them .......................................................................................... 66\\nChapter 8: Calling people to testifications and the canons of Islam ..................................... 68\\nChapter 9: Command for fighting against the people so long as thy do not profess that  \\nwhat ist no god but Allah and Muhammad is his messenger .................................................. 69\\nChapter 10: He who accepts Islam at the death-bed, before the actual agony of death,  \\nis a muslim. It is forbidden to supplicate blessings for the polytheists. He who dies as a  \\npolytheist is one among the denizens of hell and no means would be effective enough  \\nto get him out of that ................................................................................................................................ 71', metadata={'source': 'en_sahih_muslim.pdf', 'page': 1}),\n",
       " Document(page_content=\"Chapter 11: He who meets his lord with implicit faith would enter heaven and fire  \\nwould be forbidden harm him ............................................................................................................. 72\\nChapter 12: He relished the flavor of iman who was pleased with Allah as his lord ...77\\nChapter 13: Concerning the branches of iman ............................................................................. 78\\nChapter 14: Concerning the comprehensive attributes of Islam ........................................... 79\\nChapter 15: Concerning the Eminence of Islam and of the affair which are excellent 79\\nChapter 16: Concering the attributes by which one gets the relish of iman .....................80\\nChapter 17: It is obligatory to to love the prophet more tan the members of one's hou -\\nsehold: One's child, father or even the whole of humanity ....................................................... 81\\nChapter 18: Concerning the fact that it is one of the characteristics of iman that one  \\nshould like the same thing for one's brother-in-Islam as one likes for one's self ............81\\nChapter 19: Concerning the prohibition to harm neighbour .................................................. 82\\nChapter 20: Concerning exhortation to  accord honour and respect to the neighbour  \\nand to the guest and obligation to observe silence expect in goodness, and all these  \\nqualities come within the orbit of iman ............................................................................................ 82\\nChapter 21: Concerning the facts that interdiction against abominable is a part of  \\nfaith, that faith increases and diminihes; Enjoining that which is good and forbidding  \\n2 / 1800\", metadata={'source': 'en_sahih_muslim.pdf', 'page': 1}),\n",
       " Document(page_content=\"SAHIH MUSLIM\\nthat which is abominable are obligatory (acts) ............................................................................ 83\\nChapter 22: Precedence of the believers over  one another and the superiority of the  \\npeople of yemen in this respect ........................................................................................................... 84\\nChapter 23: Concerning the fact that no one will enter paradise expect believers, that  \\nlove for believers is (a characteristic feature of) faith and giving currency to (the prac -\\ntise of paying salutation by saying) As-Salamu'Aleikum (peace be upon you) is the  \\nmeans to achieve it (faith) ..................................................................................................................... 86\\nChapter 24: Din is sincerity and good-will ..................................................................................... 87\\nChapter 25: Concerning diminution of belief due to sins and its separation from the  \\nsinner: Negation of the excellence of iman at the time of committing sin ........................88\\nChapter 26: Concerning the peculiarities of a hypocrite ......................................................... 89\\nChapter 27: The condition of the faith of one who calls his brother muslim an unbelie -\\nver ................................................................................................................................................................... 90\\nChapter 28: The condition of the faith of one who knowingly denies his true parentage  \\n........................................................................................................................................................................... 90\\nChapter 29: Abusing a muslim is an outrage and fighting against him is unbelief ......91\\nChapter 30: Don't become unbelievers after me by striking the necks of one another\", metadata={'source': 'en_sahih_muslim.pdf', 'page': 2}),\n",
       " Document(page_content='........................................................................................................................................................................... 92\\nChapter 31: The use of the word \"unbelief\" in case of slandering (anyone) or one\\'s li -\\nneage, and lamentation .......................................................................................................................... 92\\nChapter 32: Calling the fugitive slave as infidel .......................................................................... 93\\nChapter 33: The unbelief of one who said: we got rainfall by the movement (of the  \\nstars) ............................................................................................................................................................... 93\\nChapter 34: The love of ansar (helpers) and \\'Ali (may Allah be pleased with all of  \\nthem) is (an ingredient) of iman and (one of) its signs, and hatred against them is a  \\nsign of dissemblance ................................................................................................................................ 94\\nChapter 35: Diminution of iman by failing in submission and the use of the word  \\n\"kufr\" for things besides unbelief of allah, for example ungratefulness and ingratitude \\n........................................................................................................................................................................... 95\\nChapter 36: Application of the word \"kufr\" to one who neglects prayer ...........................96\\nChapter 37: Belief in allah is the best of deeds ............................................................................. 97\\nChapter 38: Polytheism is the most shameful of sins and the mentioning of the gravest  \\nsin next to it ................................................................................................................................................. 98', metadata={'source': 'en_sahih_muslim.pdf', 'page': 2})]"
      ]
     },
     "execution_count": 4,
     "metadata": {},
     "output_type": "execute_result"
    }
   ],
   "source": [
    "##Text Splitter\n",
    "from langchain.text_splitter import RecursiveCharacterTextSplitter\n",
    "text_splitter=RecursiveCharacterTextSplitter(chunk_size=2000,chunk_overlap=0)\n",
    "documents=text_splitter.split_documents(docs)\n",
    "documents[:5]"
   ]
  },
  {
   "cell_type": "code",
   "execution_count": 5,
   "metadata": {},
   "outputs": [
    {
     "data": {
      "text/plain": [
       "5197"
      ]
     },
     "execution_count": 5,
     "metadata": {},
     "output_type": "execute_result"
    }
   ],
   "source": [
    "len(documents)"
   ]
  },
  {
   "cell_type": "code",
   "execution_count": 6,
   "metadata": {},
   "outputs": [],
   "source": [
    "## Vector Embedding And Vector Store\n",
    "from langchain_community.embeddings import OllamaEmbeddings\n",
    "from langchain_community.vectorstores import Chroma\n",
    "db=Chroma.from_documents(documents[:1800],OllamaEmbeddings(model=\"llama3\"))"
   ]
  },
  {
   "cell_type": "code",
   "execution_count": null,
   "metadata": {},
   "outputs": [
    {
     "data": {
      "text/plain": [
       "\"the relish of iman\\nBook 001, Number 0067: \\nIt is reported on the authority of Anas that the Prophet of Allah (may peace and blessings be upon  \\nhim ) said: There are three qualities for which anyone who is characterised by them will relish the  \\nsweetness of faith: he to whom Allah and His Messenger are dearer than all else; he who loves a man  \\nfor Allah's sake alone; and he who has as great an abhorrence of returning to unbelief after Allah has  \\nrescued him from it as he has of being cast into Hell.\\nBook 001, Number 0068: \\nIt is reported on the authority of Anas that the Messenger of Allah (may peace be upon him) said:  \\nThere are three qualities for which any one who is characterised by them will relish the savour of  \\nfaith: that he loves man and he does not love him but for Allah's sake alone; he is to whom Allah and  \\nHis Messenger are dearer than all else; he who prefers to be thrown into fire than to return to unbe -\\nlief after Allah has rescued him out of it.\""
      ]
     },
     "execution_count": 25,
     "metadata": {},
     "output_type": "execute_result"
    },
    {
     "ename": "",
     "evalue": "",
     "output_type": "error",
     "traceback": [
      "\u001b[1;31mThe Kernel crashed while executing code in the current cell or a previous cell. \n",
      "\u001b[1;31mPlease review the code in the cell(s) to identify a possible cause of the failure. \n",
      "\u001b[1;31mClick <a href='https://aka.ms/vscodeJupyterKernelCrash'>here</a> for more info. \n",
      "\u001b[1;31mView Jupyter <a href='command:jupyter.viewOutput'>log</a> for further details."
     ]
    }
   ],
   "source": [
    "## CHROMA Vector database\n",
    "query=\"It is narrated on the authority of Abu Huraira that the Messenger of Allah (may peace and blessing be upon him) observed: He will not enter Paradise whose neighbour is not secure from his wrongful conduct.\"\n",
    "result=db.similarity_search(query)\n",
    "result[0].page_content"
   ]
  },
  {
   "cell_type": "code",
   "execution_count": null,
   "metadata": {},
   "outputs": [],
   "source": []
  }
 ],
 "metadata": {
  "kernelspec": {
   "display_name": "myenv",
   "language": "python",
   "name": "python3"
  },
  "language_info": {
   "codemirror_mode": {
    "name": "ipython",
    "version": 3
   },
   "file_extension": ".py",
   "mimetype": "text/x-python",
   "name": "python",
   "nbconvert_exporter": "python",
   "pygments_lexer": "ipython3",
   "version": "3.11.7"
  }
 },
 "nbformat": 4,
 "nbformat_minor": 2
}
